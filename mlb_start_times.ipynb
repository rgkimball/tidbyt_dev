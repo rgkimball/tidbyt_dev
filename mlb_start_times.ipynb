{
 "metadata": {
  "kernelspec": {
   "language": "python",
   "display_name": "Python 3",
   "name": "python3"
  },
  "language_info": {
   "name": "python",
   "version": "3.7.12",
   "mimetype": "text/x-python",
   "codemirror_mode": {
    "name": "ipython",
    "version": 3
   },
   "pygments_lexer": "ipython3",
   "nbconvert_exporter": "python",
   "file_extension": ".py"
  }
 },
 "nbformat_minor": 4,
 "nbformat": 4,
 "cells": [
  {
   "cell_type": "code",
   "source": [
    "import pytz\n",
    "import pandas as pd\n",
    "pd.set_option(\"display.max_rows\", 5000)\n",
    "\n",
    "import os\n",
    "for dirname, _, filenames in os.walk('/kaggle/input'):\n",
    "    for filename in filenames:\n",
    "        print(os.path.join(dirname, filename))"
   ],
   "metadata": {
    "_uuid": "8f2839f25d086af736a60e9eeb907d3b93b6e0e5",
    "_cell_guid": "b1076dfc-b9ad-4769-8c92-a6c4dae69d19",
    "execution": {
     "iopub.status.busy": "2022-04-08T16:20:18.968621Z",
     "iopub.execute_input": "2022-04-08T16:20:18.969528Z",
     "iopub.status.idle": "2022-04-08T16:20:18.986989Z",
     "shell.execute_reply.started": "2022-04-08T16:20:18.969464Z",
     "shell.execute_reply": "2022-04-08T16:20:18.986043Z"
    },
    "trusted": true
   },
   "execution_count": 1,
   "outputs": []
  },
  {
   "cell_type": "code",
   "source": [
    "games = pd.read_csv(\"games.csv\")\n",
    "\n",
    "tzmap = {\n",
    "    'ana': \"America/Los_Angeles\", # angels\n",
    "    'ari': \"US/Arizona\",\n",
    "    'atl': \"US/Eastern\",\n",
    "    'bal': \"US/Eastern\",\n",
    "    'bos': \"US/Eastern\",\n",
    "    'cha': \"US/Central\",  # white sox\n",
    "    'chn': \"US/Central\",  # cubs\n",
    "    'cin': \"US/Eastern\",\n",
    "    'cle': \"US/Eastern\",\n",
    "    'col': \"US/Mountain\",\n",
    "    'det': \"US/Eastern\",\n",
    "    'hou': \"US/Central\",\n",
    "    'kca': \"US/Central\",\n",
    "    'lan': \"America/Los_Angeles\",  # dodgers\n",
    "    'mia': \"US/Eastern\",\n",
    "    'mil': \"US/Central\",\n",
    "    'min': \"US/Central\",\n",
    "    'nya': \"US/Eastern\",\n",
    "    'nyn': \"US/Eastern\",\n",
    "    'oak': \"US/Pacific\",\n",
    "    'phi': \"US/Eastern\",\n",
    "    'pit': \"US/Eastern\",\n",
    "    'sdn': \"US/Pacific\",\n",
    "    'sea': \"US/Pacific\",\n",
    "    'sfn': \"US/Pacific\",  # giants\n",
    "    'sln': \"US/Central\",  # cards\n",
    "    'tba': \"US/Eastern\",  # rays\n",
    "    'tex': \"US/Central\",\n",
    "    'tor': \"America/Toronto\",\n",
    "    'was': \"US/Eastern\",\n",
    "}\n",
    "\n",
    "games[\"dtdate\"] = pd.to_datetime(games[\"date\"])\n",
    "games[\"day_of_week\"] = games[\"dtdate\"].dt.weekday\n",
    "games[\"weekend\"] = games[\"day_of_week\"] > 5\n",
    "games[\"start_datetime\"] = games.apply(lambda d: pd.to_datetime(\"{} {}\".format(d[\"date\"], d[\"start_time\"])).tz_localize(tzmap.get(d[\"home_team\"], None)), axis=1)\n",
    "games[\"start_datetime\"].apply(lambda o: type(o)).unique()"
   ],
   "metadata": {
    "execution": {
     "iopub.status.busy": "2022-04-08T16:20:19.040258Z",
     "iopub.execute_input": "2022-04-08T16:20:19.040593Z",
     "iopub.status.idle": "2022-04-08T16:20:23.711359Z",
     "shell.execute_reply.started": "2022-04-08T16:20:19.040560Z",
     "shell.execute_reply": "2022-04-08T16:20:23.710330Z"
    }
   },
   "execution_count": 2,
   "outputs": [
    {
     "data": {
      "text/plain": "array([<class 'pandas._libs.tslibs.timestamps.Timestamp'>], dtype=object)"
     },
     "execution_count": 2,
     "metadata": {},
     "output_type": "execute_result"
    }
   ]
  },
  {
   "cell_type": "code",
   "source": [
    "games[\"localized_hour\"] = games[\"start_datetime\"].apply(lambda d: d.tz_convert(\"US/Eastern\").hour)\n",
    "games[[\"home_team\", \"start_datetime\", \"localized_hour\"]]"
   ],
   "metadata": {
    "execution": {
     "iopub.status.busy": "2022-04-08T16:20:23.713290Z",
     "iopub.execute_input": "2022-04-08T16:20:23.713634Z",
     "iopub.status.idle": "2022-04-08T16:20:23.882218Z",
     "shell.execute_reply.started": "2022-04-08T16:20:23.713594Z",
     "shell.execute_reply": "2022-04-08T16:20:23.881355Z"
    },
    "trusted": true
   },
   "execution_count": 3,
   "outputs": [
    {
     "data": {
      "text/plain": "     home_team             start_datetime  localized_hour\n0          chn  2015-04-05 19:17:00-05:00              20\n1          sea  2015-04-06 13:12:00-07:00              16\n2          mia  2015-04-06 16:22:00-04:00              16\n3          tba  2015-04-06 15:12:00-04:00              15\n4          phi  2015-04-06 15:08:00-04:00              15\n...        ...                        ...             ...\n9713       sea  2018-09-30 12:10:00-07:00              15\n9714       tba  2018-09-30 15:09:00-04:00              15\n9715       col  2018-09-30 13:12:00-06:00              15\n9716       lan  2018-10-01 13:09:00-07:00              16\n9717       chn  2018-10-01 12:05:00-05:00              13\n\n[9718 rows x 3 columns]",
      "text/html": "<div>\n<style scoped>\n    .dataframe tbody tr th:only-of-type {\n        vertical-align: middle;\n    }\n\n    .dataframe tbody tr th {\n        vertical-align: top;\n    }\n\n    .dataframe thead th {\n        text-align: right;\n    }\n</style>\n<table border=\"1\" class=\"dataframe\">\n  <thead>\n    <tr style=\"text-align: right;\">\n      <th></th>\n      <th>home_team</th>\n      <th>start_datetime</th>\n      <th>localized_hour</th>\n    </tr>\n  </thead>\n  <tbody>\n    <tr>\n      <th>0</th>\n      <td>chn</td>\n      <td>2015-04-05 19:17:00-05:00</td>\n      <td>20</td>\n    </tr>\n    <tr>\n      <th>1</th>\n      <td>sea</td>\n      <td>2015-04-06 13:12:00-07:00</td>\n      <td>16</td>\n    </tr>\n    <tr>\n      <th>2</th>\n      <td>mia</td>\n      <td>2015-04-06 16:22:00-04:00</td>\n      <td>16</td>\n    </tr>\n    <tr>\n      <th>3</th>\n      <td>tba</td>\n      <td>2015-04-06 15:12:00-04:00</td>\n      <td>15</td>\n    </tr>\n    <tr>\n      <th>4</th>\n      <td>phi</td>\n      <td>2015-04-06 15:08:00-04:00</td>\n      <td>15</td>\n    </tr>\n    <tr>\n      <th>...</th>\n      <td>...</td>\n      <td>...</td>\n      <td>...</td>\n    </tr>\n    <tr>\n      <th>9713</th>\n      <td>sea</td>\n      <td>2018-09-30 12:10:00-07:00</td>\n      <td>15</td>\n    </tr>\n    <tr>\n      <th>9714</th>\n      <td>tba</td>\n      <td>2018-09-30 15:09:00-04:00</td>\n      <td>15</td>\n    </tr>\n    <tr>\n      <th>9715</th>\n      <td>col</td>\n      <td>2018-09-30 13:12:00-06:00</td>\n      <td>15</td>\n    </tr>\n    <tr>\n      <th>9716</th>\n      <td>lan</td>\n      <td>2018-10-01 13:09:00-07:00</td>\n      <td>16</td>\n    </tr>\n    <tr>\n      <th>9717</th>\n      <td>chn</td>\n      <td>2018-10-01 12:05:00-05:00</td>\n      <td>13</td>\n    </tr>\n  </tbody>\n</table>\n<p>9718 rows × 3 columns</p>\n</div>"
     },
     "execution_count": 3,
     "metadata": {},
     "output_type": "execute_result"
    }
   ]
  },
  {
   "cell_type": "code",
   "source": [
    "games[~games[\"weekend\"]].groupby(\"localized_hour\").count().sort_index()[\"attendance\"].plot(kind=\"bar\", figsize=(15, 10), title=\"Weekdays\")"
   ],
   "metadata": {
    "execution": {
     "iopub.status.busy": "2022-04-08T16:20:23.883497Z",
     "iopub.execute_input": "2022-04-08T16:20:23.884322Z",
     "iopub.status.idle": "2022-04-08T16:20:24.249176Z",
     "shell.execute_reply.started": "2022-04-08T16:20:23.884275Z",
     "shell.execute_reply": "2022-04-08T16:20:24.248171Z"
    },
    "trusted": true
   },
   "execution_count": 4,
   "outputs": [
    {
     "data": {
      "text/plain": "<AxesSubplot:title={'center':'Weekdays'}, xlabel='localized_hour'>"
     },
     "execution_count": 4,
     "metadata": {},
     "output_type": "execute_result"
    },
    {
     "data": {
      "text/plain": "<Figure size 1080x720 with 1 Axes>",
      "image/png": "[encoded data removed]"
     },
     "metadata": {
      "needs_background": "light"
     },
     "output_type": "display_data"
    }
   ]
  },
  {
   "cell_type": "code",
   "source": [
    "games[games[\"weekend\"]].groupby(\"localized_hour\").count().sort_index()[\"attendance\"].plot(kind=\"bar\", figsize=(15, 10), title=\"Weekends\")"
   ],
   "metadata": {
    "execution": {
     "iopub.status.busy": "2022-04-08T16:20:24.250720Z",
     "iopub.execute_input": "2022-04-08T16:20:24.251128Z",
     "iopub.status.idle": "2022-04-08T16:20:24.517742Z",
     "shell.execute_reply.started": "2022-04-08T16:20:24.251092Z",
     "shell.execute_reply": "2022-04-08T16:20:24.516835Z"
    },
    "trusted": true
   },
   "execution_count": 5,
   "outputs": [
    {
     "data": {
      "text/plain": "<AxesSubplot:title={'center':'Weekends'}, xlabel='localized_hour'>"
     },
     "execution_count": 5,
     "metadata": {},
     "output_type": "execute_result"
    },
    {
     "data": {
      "text/plain": "<Figure size 1080x720 with 1 Axes>",
      "image/png": "[encoded data removed]"
     },
     "metadata": {
      "needs_background": "light"
     },
     "output_type": "display_data"
    }
   ]
  }
 ]
}